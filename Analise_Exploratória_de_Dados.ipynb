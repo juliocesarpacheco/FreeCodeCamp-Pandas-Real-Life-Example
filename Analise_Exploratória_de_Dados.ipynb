{
  "nbformat": 4,
  "nbformat_minor": 0,
  "metadata": {
    "colab": {
      "name": "Analise Exploratória de Dados.ipynb",
      "provenance": [],
      "authorship_tag": "ABX9TyO+xOkfvFkFd+HyGEYupQNx",
      "include_colab_link": true
    },
    "kernelspec": {
      "name": "python3",
      "display_name": "Python 3"
    }
  },
  "cells": [
    {
      "cell_type": "markdown",
      "metadata": {
        "id": "view-in-github",
        "colab_type": "text"
      },
      "source": [
        "<a href=\"https://colab.research.google.com/github/juliocesarpacheco/FreeCodeCamp-Pandas-Real-Life-Example/blob/master/Analise_Explorat%C3%B3ria_de_Dados.ipynb\" target=\"_parent\"><img src=\"https://colab.research.google.com/assets/colab-badge.svg\" alt=\"Open In Colab\"/></a>"
      ]
    },
    {
      "cell_type": "markdown",
      "metadata": {
        "id": "mZteuKk2Gn7Q"
      },
      "source": [
        "# ANÁLISE EXPLORATÓRIA DE DADOS COM PYTHON"
      ]
    },
    {
      "cell_type": "markdown",
      "metadata": {
        "id": "KVxwI8eMGyme"
      },
      "source": [
        "#Até mesmo a caminhada mais longa começa com o 1º passo. A  nossa começa pela importação de bibiotecas"
      ]
    },
    {
      "cell_type": "code",
      "metadata": {
        "id": "ZvGva5hpGwuW"
      },
      "source": [
        ""
      ],
      "execution_count": null,
      "outputs": []
    },
    {
      "cell_type": "code",
      "metadata": {
        "id": "EsT507ORHGFV"
      },
      "source": [
        ""
      ],
      "execution_count": null,
      "outputs": []
    },
    {
      "cell_type": "code",
      "metadata": {
        "id": "sAUaQobGHGiZ"
      },
      "source": [
        ""
      ],
      "execution_count": null,
      "outputs": []
    },
    {
      "cell_type": "code",
      "metadata": {
        "id": "bTmRFxMQIjYF"
      },
      "source": [
        ""
      ],
      "execution_count": null,
      "outputs": []
    },
    {
      "cell_type": "code",
      "metadata": {
        "id": "6PsmD7XCIlyY"
      },
      "source": [
        "r "
      ],
      "execution_count": null,
      "outputs": []
    },
    {
      "cell_type": "markdown",
      "metadata": {
        "id": "_DCEF8nVHHQ4"
      },
      "source": [
        "#Precisamos obter dados para transformá-los em informação. Isso será feito a partir da leitura de um arquivo ou mesmo da internet. Vamos criar um dataframe a partir da leitura de um arquivo"
      ]
    },
    {
      "cell_type": "code",
      "metadata": {
        "id": "P1-EKY6SIdNe"
      },
      "source": [
        ""
      ],
      "execution_count": null,
      "outputs": []
    },
    {
      "cell_type": "code",
      "metadata": {
        "id": "0bLLgTcDIzXs"
      },
      "source": [
        ""
      ],
      "execution_count": null,
      "outputs": []
    },
    {
      "cell_type": "code",
      "metadata": {
        "id": "EALi2YO9IzhT"
      },
      "source": [
        ""
      ],
      "execution_count": null,
      "outputs": []
    },
    {
      "cell_type": "code",
      "metadata": {
        "id": "Uxxkw5jCJwju"
      },
      "source": [
        ""
      ],
      "execution_count": null,
      "outputs": []
    },
    {
      "cell_type": "markdown",
      "metadata": {
        "id": "YIfpzwtcJ3a2"
      },
      "source": [
        "#A análise de dados se baseia na técnica de se fazer as perguntas certas, obter as respostas a partir dos dados e tirar nossas conclusões. Como é o nosso banco de dados?"
      ]
    },
    {
      "cell_type": "code",
      "metadata": {
        "id": "EL86kGHvJ7Hv"
      },
      "source": [
        ""
      ],
      "execution_count": null,
      "outputs": []
    },
    {
      "cell_type": "code",
      "metadata": {
        "id": "XGztrSTBKBSP"
      },
      "source": [
        ""
      ],
      "execution_count": null,
      "outputs": []
    },
    {
      "cell_type": "code",
      "metadata": {
        "id": "OT9ALHY0KBdB"
      },
      "source": [
        ""
      ],
      "execution_count": null,
      "outputs": []
    },
    {
      "cell_type": "code",
      "metadata": {
        "id": "Sa9EeGlVKBnf"
      },
      "source": [
        ""
      ],
      "execution_count": null,
      "outputs": []
    },
    {
      "cell_type": "code",
      "metadata": {
        "id": "VuRGiF7IKBxb"
      },
      "source": [
        ""
      ],
      "execution_count": null,
      "outputs": []
    },
    {
      "cell_type": "markdown",
      "metadata": {
        "id": "5OqoHPNbKVmY"
      },
      "source": [
        "#Qual o tamanho do banco de dados?"
      ]
    },
    {
      "cell_type": "markdown",
      "metadata": {
        "id": "0_-uNmIcKFJ6"
      },
      "source": [
        ""
      ]
    },
    {
      "cell_type": "code",
      "metadata": {
        "id": "34tRGQKLKzC1"
      },
      "source": [
        ""
      ],
      "execution_count": null,
      "outputs": []
    },
    {
      "cell_type": "code",
      "metadata": {
        "id": "TUd1THM8KzOX"
      },
      "source": [
        ""
      ],
      "execution_count": null,
      "outputs": []
    },
    {
      "cell_type": "code",
      "metadata": {
        "id": "Zi1wtEJPKzYJ"
      },
      "source": [
        ""
      ],
      "execution_count": null,
      "outputs": []
    },
    {
      "cell_type": "markdown",
      "metadata": {
        "id": "Axc-vxbXZbpN"
      },
      "source": [
        "#Quais os tipos de cada campo do df?"
      ]
    },
    {
      "cell_type": "code",
      "metadata": {
        "id": "fUwLT1ufZkG4"
      },
      "source": [
        ""
      ],
      "execution_count": null,
      "outputs": []
    },
    {
      "cell_type": "code",
      "metadata": {
        "id": "AZgCU6SJZpGG"
      },
      "source": [
        ""
      ],
      "execution_count": null,
      "outputs": []
    },
    {
      "cell_type": "code",
      "metadata": {
        "id": "cu4SHt3fZkW_"
      },
      "source": [
        ""
      ],
      "execution_count": null,
      "outputs": []
    },
    {
      "cell_type": "markdown",
      "metadata": {
        "id": "YEhmHmdnO5XM"
      },
      "source": [
        "#Como filtar o dataframe baseado em características das colunas?"
      ]
    },
    {
      "cell_type": "code",
      "metadata": {
        "id": "mStctxDHPRqv"
      },
      "source": [
        ""
      ],
      "execution_count": null,
      "outputs": []
    },
    {
      "cell_type": "code",
      "metadata": {
        "id": "NppZaVQPPSSv"
      },
      "source": [
        ""
      ],
      "execution_count": null,
      "outputs": []
    },
    {
      "cell_type": "code",
      "metadata": {
        "id": "opFrbya2PSZt"
      },
      "source": [
        ""
      ],
      "execution_count": null,
      "outputs": []
    },
    {
      "cell_type": "markdown",
      "metadata": {
        "id": "41sbJ1ZwUXtW"
      },
      "source": [
        ""
      ]
    },
    {
      "cell_type": "markdown",
      "metadata": {
        "id": "k688k4HnPwwk"
      },
      "source": [
        "#Como criar novas colunas a partir da operação realizadas em colunas já existentes no dataframe?"
      ]
    },
    {
      "cell_type": "code",
      "metadata": {
        "id": "KsLdI31ZP9AE"
      },
      "source": [
        ""
      ],
      "execution_count": null,
      "outputs": []
    },
    {
      "cell_type": "code",
      "metadata": {
        "id": "HAskmDh3Qi4U"
      },
      "source": [
        ""
      ],
      "execution_count": null,
      "outputs": []
    },
    {
      "cell_type": "code",
      "metadata": {
        "id": "Hv_yAWP7QjDO"
      },
      "source": [
        ""
      ],
      "execution_count": null,
      "outputs": []
    },
    {
      "cell_type": "code",
      "metadata": {
        "id": "KkqlBXjiQjMk"
      },
      "source": [
        ""
      ],
      "execution_count": null,
      "outputs": []
    },
    {
      "cell_type": "markdown",
      "metadata": {
        "id": "wbSlHDiXSmrP"
      },
      "source": [
        "#Quantas occorrências de um determinado campo existem no meu dataframe?"
      ]
    },
    {
      "cell_type": "code",
      "metadata": {
        "id": "ar7XfHa0S2Js"
      },
      "source": [
        ""
      ],
      "execution_count": null,
      "outputs": []
    },
    {
      "cell_type": "code",
      "metadata": {
        "id": "2xZpJ1nIS6D7"
      },
      "source": [
        ""
      ],
      "execution_count": null,
      "outputs": []
    },
    {
      "cell_type": "code",
      "metadata": {
        "id": "KBD4kZiKS6TD"
      },
      "source": [
        ""
      ],
      "execution_count": null,
      "outputs": []
    },
    {
      "cell_type": "markdown",
      "metadata": {
        "id": "2scYzZviTnXF"
      },
      "source": [
        "#Qual o percentual de ocorrências de um deteminado campo em relação ao total de registros do datafame?"
      ]
    },
    {
      "cell_type": "code",
      "metadata": {
        "id": "Kn-QBLMOUTgd"
      },
      "source": [
        ""
      ],
      "execution_count": null,
      "outputs": []
    },
    {
      "cell_type": "code",
      "metadata": {
        "id": "_hVCUHXUUTvA"
      },
      "source": [
        ""
      ],
      "execution_count": null,
      "outputs": []
    },
    {
      "cell_type": "code",
      "metadata": {
        "id": "CQlbLUyXUT5j"
      },
      "source": [
        ""
      ],
      "execution_count": null,
      "outputs": []
    },
    {
      "cell_type": "markdown",
      "metadata": {
        "id": "4-JnDJDpS7Eg"
      },
      "source": [
        "#É possível aplicar uma análise estatística descritiva para as variáveis quantitativas de campos do df?"
      ]
    },
    {
      "cell_type": "code",
      "metadata": {
        "id": "Lmr4szegU7P0"
      },
      "source": [
        ""
      ],
      "execution_count": null,
      "outputs": []
    },
    {
      "cell_type": "code",
      "metadata": {
        "id": "_l61Q8rVU_qk"
      },
      "source": [
        ""
      ],
      "execution_count": null,
      "outputs": []
    },
    {
      "cell_type": "code",
      "metadata": {
        "id": "oAu67ACnU_zR"
      },
      "source": [
        ""
      ],
      "execution_count": null,
      "outputs": []
    },
    {
      "cell_type": "code",
      "metadata": {
        "id": "-wYs6kAQVAGh"
      },
      "source": [
        ""
      ],
      "execution_count": null,
      "outputs": []
    },
    {
      "cell_type": "code",
      "metadata": {
        "id": "YZ-ffs0eVAON"
      },
      "source": [
        ""
      ],
      "execution_count": null,
      "outputs": []
    },
    {
      "cell_type": "markdown",
      "metadata": {
        "id": "PTS_vBhRZM6n"
      },
      "source": [
        "#"
      ]
    },
    {
      "cell_type": "markdown",
      "metadata": {
        "id": "Bv058-9PVA5S"
      },
      "source": [
        "#Há uma maneira de fazer a análise descritiva de uma forma mais resumida?"
      ]
    },
    {
      "cell_type": "code",
      "metadata": {
        "id": "cYxn-IZuZ7kM"
      },
      "source": [
        ""
      ],
      "execution_count": null,
      "outputs": []
    },
    {
      "cell_type": "code",
      "metadata": {
        "id": "t4KaQzoTZ9M6"
      },
      "source": [
        ""
      ],
      "execution_count": null,
      "outputs": []
    },
    {
      "cell_type": "code",
      "metadata": {
        "id": "MkRtLiIqZ9Vg"
      },
      "source": [
        ""
      ],
      "execution_count": null,
      "outputs": []
    },
    {
      "cell_type": "markdown",
      "metadata": {
        "id": "XTlHL2HIaqFX"
      },
      "source": [
        "#Como fazer  um gráfico de dispersão entre 2 campos do df?"
      ]
    },
    {
      "cell_type": "code",
      "metadata": {
        "id": "KrCAU64WbVSb"
      },
      "source": [
        ""
      ],
      "execution_count": null,
      "outputs": []
    },
    {
      "cell_type": "code",
      "metadata": {
        "id": "hdSsFJEvbWI0"
      },
      "source": [
        ""
      ],
      "execution_count": null,
      "outputs": []
    },
    {
      "cell_type": "code",
      "metadata": {
        "id": "jMGE_-FFbWSc"
      },
      "source": [
        ""
      ],
      "execution_count": null,
      "outputs": []
    }
  ]
}